{
 "cells": [
  {
   "cell_type": "markdown",
   "metadata": {
    "id": "TAt-bk1YcGSx"
   },
   "source": [
    "# **Phishing Domain Detection (Training Models)**\n",
    "\n",
    "### The objective of this notebook is to test a couple of models to classify which one is best suited for detecting malicious domains"
   ]
  },
  {
   "metadata": {
    "ExecuteTime": {
     "end_time": "2025-01-19T15:33:36.231992Z",
     "start_time": "2025-01-19T15:32:40.228403Z"
    }
   },
   "cell_type": "code",
   "source": [
    "import numpy as np\n",
    "import pandas as pd\n",
    "import matplotlib.pyplot as plt\n",
    "import seaborn as sns\n",
    "from imblearn.over_sampling import SMOTE\n",
    "from sklearn.model_selection import train_test_split\n",
    "from sklearn.tree import DecisionTreeClassifier\n",
    "from sklearn.ensemble import RandomForestClassifier\n",
    "from sklearn.metrics import confusion_matrix, classification_report, accuracy_score\n",
    "from tensorflow import keras\n",
    "from tensorflow.keras.models import Sequential\n",
    "from tensorflow.keras.layers import Dense, Dropout, Input\n",
    "from tensorflow.keras.optimizers import Adam\n",
    "from tensorflow.keras.callbacks import EarlyStopping\n",
    "from concurrent.futures import ThreadPoolExecutor\n",
    "\n",
    "# Load the dataset\n",
    "urldata = pd.read_csv(\"./Url_Processed.csv\")\n",
    "\n",
    "# Inspect the dataset\n",
    "print(\"Dataset Columns:\", urldata.columns.tolist())\n",
    "\n",
    "# Drop unnecessary columns if they exist\n",
    "urldata.drop(\"Unnamed: 0\", axis=1, inplace=True, errors='ignore')  # Drop unnecessary column\n",
    "if \"url\" in urldata.columns and \"label\" in urldata.columns:\n",
    "    urldata.drop([\"url\", \"label\"], axis=1, inplace=True)  # Drop 'url' and 'label' columns if they exist\n",
    "\n",
    "# Define required columns for x\n",
    "required_columns = [\n",
    "    'hostname_length', 'path_length', 'fd_length', 'count-', 'count@', 'count?',\n",
    "    'count%', 'count.', 'count=', 'count-http', 'count-https', 'count-www',\n",
    "    'count-digits', 'count-letters', 'count_dir', 'use_of_ip'\n",
    "]\n",
    "\n",
    "# Check for missing columns\n",
    "missing_columns = [col for col in required_columns if col not in urldata.columns]\n",
    "if missing_columns:\n",
    "    print(f\"Warning: Missing columns in dataset: {missing_columns}\")\n",
    "    # Option 1: Drop missing columns from required_columns\n",
    "    required_columns = [col for col in required_columns if col in urldata.columns]\n",
    "    # Option 2: Create placeholder columns with default values (e.g., 0)\n",
    "    for col in missing_columns:\n",
    "        urldata[col] = 0\n",
    "\n",
    "# Configure dependent variables (x) and independent variable (y)\n",
    "x = urldata[required_columns]\n",
    "if 'result' in urldata.columns:\n",
    "    y = urldata['result']\n",
    "else:\n",
    "    raise ValueError(\"'result' column not found in dataset\")\n",
    "\n",
    "# Oversampling using SMOTE\n",
    "x_sample, y_sample = SMOTE().fit_resample(x, y)\n",
    "x_sample = pd.DataFrame(x_sample, columns=required_columns)\n",
    "y_sample = pd.DataFrame(y_sample, columns=['result'])\n",
    "\n",
    "# Split the data into train and test sets\n",
    "x_train, x_test, y_train, y_test = train_test_split(x_sample, y_sample, test_size=0.2, random_state=42)\n",
    "print(f\"Shape of x_train: {x_train.shape}, x_test: {x_test.shape}, y_train: {y_train.shape}, y_test: {y_test.shape}\")\n",
    "\n",
    "# Decision Tree Model\n",
    "dt_model = DecisionTreeClassifier(max_depth=7)\n",
    "dt_model.fit(x_train, y_train)\n",
    "\n",
    "# Evaluate Decision Tree Model\n",
    "y_pred_train_dt = dt_model.predict(x_train)\n",
    "y_pred_test_dt = dt_model.predict(x_test)\n",
    "print(\"Decision Tree - Training Accuracy:\", accuracy_score(y_train, y_pred_train_dt))\n",
    "print(\"Decision Tree - Testing Accuracy:\", accuracy_score(y_test, y_pred_test_dt))\n",
    "print(\"Decision Tree - Classification Report:\\n\", classification_report(y_test, y_pred_test_dt, target_names=[\"legitimate\", \"malicious\"]))\n",
    "\n",
    "# Random Forest Model\n",
    "rf_model = RandomForestClassifier(max_depth=7)\n",
    "rf_model.fit(x_train, y_train)\n",
    "\n",
    "# Evaluate Random Forest Model\n",
    "y_pred_train_rf = rf_model.predict(x_train)\n",
    "y_pred_test_rf = rf_model.predict(x_test)\n",
    "print(\"Random Forest - Training Accuracy:\", accuracy_score(y_train, y_pred_train_rf))\n",
    "print(\"Random Forest - Testing Accuracy:\", accuracy_score(y_test, y_pred_test_rf))\n",
    "print(\"Random Forest - Classification Report:\\n\", classification_report(y_test, y_pred_test_rf, target_names=[\"legitimate\", \"malicious\"]))\n",
    "\n",
    "# Neural Network Model using Keras\n",
    "nn_model = Sequential([\n",
    "    Dense(64, input_dim=x_train.shape[1], activation='relu'),\n",
    "    Dense(32, activation='relu'),\n",
    "    Dense(16, activation='relu'),\n",
    "    Dense(8, activation='relu'),\n",
    "    Dense(1, activation='sigmoid')  # Output layer for binary classification\n",
    "])\n",
    "\n",
    "# Compile and train Neural Network model\n",
    "nn_model.compile(optimizer=Adam(learning_rate=0.0001), loss='binary_crossentropy', metrics=['accuracy'])\n",
    "early_stopping = EarlyStopping(monitor='val_loss', patience=3, restore_best_weights=True)\n",
    "history = nn_model.fit(x_train, y_train, epochs=10, batch_size=256, validation_data=(x_test, y_test),\n",
    "                       callbacks=[early_stopping], verbose=1)\n",
    "\n",
    "# Save the best model\n",
    "nn_model.save(\"Malicious_URL_Prediction.keras\")\n",
    "print(\"Model saved as Malicious_URL_Prediction.keras\")"
   ],
   "outputs": [
    {
     "name": "stdout",
     "output_type": "stream",
     "text": [
      "Dataset Columns: ['url', 'label', 'result', 'url_length', 'hostname_length', 'path_length', 'fd_length', 'count_-', 'count_@', 'count_?', 'count_%', 'count_.', 'count_=', 'count_http', 'count_https', 'count_www', 'count_digits', 'count_letters', 'count_dir', 'use_of_ip', 'short_url']\n",
      "Warning: Missing columns in dataset: ['count-', 'count@', 'count?', 'count%', 'count.', 'count=', 'count-http', 'count-https', 'count-www', 'count-digits', 'count-letters']\n",
      "Shape of x_train: (553180, 5), x_test: (138296, 5), y_train: (553180, 1), y_test: (138296, 1)\n",
      "Decision Tree - Training Accuracy: 0.7061589356086626\n",
      "Decision Tree - Testing Accuracy: 0.7060074044079366\n",
      "Decision Tree - Classification Report:\n",
      "               precision    recall  f1-score   support\n",
      "\n",
      "  legitimate       0.68      0.76      0.72     69063\n",
      "   malicious       0.73      0.65      0.69     69233\n",
      "\n",
      "    accuracy                           0.71    138296\n",
      "   macro avg       0.71      0.71      0.71    138296\n",
      "weighted avg       0.71      0.71      0.71    138296\n",
      "\n"
     ]
    },
    {
     "name": "stderr",
     "output_type": "stream",
     "text": [
      "D:\\Project\\.venv\\Lib\\site-packages\\sklearn\\base.py:1389: DataConversionWarning: A column-vector y was passed when a 1d array was expected. Please change the shape of y to (n_samples,), for example using ravel().\n",
      "  return fit_method(estimator, *args, **kwargs)\n"
     ]
    },
    {
     "name": "stdout",
     "output_type": "stream",
     "text": [
      "Random Forest - Training Accuracy: 0.7267760945804259\n",
      "Random Forest - Testing Accuracy: 0.7270926129461445\n",
      "Random Forest - Classification Report:\n",
      "               precision    recall  f1-score   support\n",
      "\n",
      "  legitimate       0.70      0.80      0.75     69063\n",
      "   malicious       0.77      0.65      0.71     69233\n",
      "\n",
      "    accuracy                           0.73    138296\n",
      "   macro avg       0.73      0.73      0.73    138296\n",
      "weighted avg       0.73      0.73      0.73    138296\n",
      "\n",
      "Epoch 1/10\n"
     ]
    },
    {
     "name": "stderr",
     "output_type": "stream",
     "text": [
      "D:\\Project\\.venv\\Lib\\site-packages\\keras\\src\\layers\\core\\dense.py:87: UserWarning: Do not pass an `input_shape`/`input_dim` argument to a layer. When using Sequential models, prefer using an `Input(shape)` object as the first layer in the model instead.\n",
      "  super().__init__(activity_regularizer=activity_regularizer, **kwargs)\n"
     ]
    },
    {
     "name": "stdout",
     "output_type": "stream",
     "text": [
      "\u001B[1m2161/2161\u001B[0m \u001B[32m━━━━━━━━━━━━━━━━━━━━\u001B[0m\u001B[37m\u001B[0m \u001B[1m4s\u001B[0m 1ms/step - accuracy: 0.6293 - loss: 0.6529 - val_accuracy: 0.6765 - val_loss: 0.6196\n",
      "Epoch 2/10\n",
      "\u001B[1m2161/2161\u001B[0m \u001B[32m━━━━━━━━━━━━━━━━━━━━\u001B[0m\u001B[37m\u001B[0m \u001B[1m3s\u001B[0m 1ms/step - accuracy: 0.6776 - loss: 0.6167 - val_accuracy: 0.6779 - val_loss: 0.6091\n",
      "Epoch 3/10\n",
      "\u001B[1m2161/2161\u001B[0m \u001B[32m━━━━━━━━━━━━━━━━━━━━\u001B[0m\u001B[37m\u001B[0m \u001B[1m3s\u001B[0m 1ms/step - accuracy: 0.6818 - loss: 0.6084 - val_accuracy: 0.6837 - val_loss: 0.6027\n",
      "Epoch 4/10\n",
      "\u001B[1m2161/2161\u001B[0m \u001B[32m━━━━━━━━━━━━━━━━━━━━\u001B[0m\u001B[37m\u001B[0m \u001B[1m3s\u001B[0m 1ms/step - accuracy: 0.6845 - loss: 0.6036 - val_accuracy: 0.6960 - val_loss: 0.5963\n",
      "Epoch 5/10\n",
      "\u001B[1m2161/2161\u001B[0m \u001B[32m━━━━━━━━━━━━━━━━━━━━\u001B[0m\u001B[37m\u001B[0m \u001B[1m3s\u001B[0m 1ms/step - accuracy: 0.6933 - loss: 0.5959 - val_accuracy: 0.7026 - val_loss: 0.5875\n",
      "Epoch 6/10\n",
      "\u001B[1m2161/2161\u001B[0m \u001B[32m━━━━━━━━━━━━━━━━━━━━\u001B[0m\u001B[37m\u001B[0m \u001B[1m3s\u001B[0m 1ms/step - accuracy: 0.7004 - loss: 0.5855 - val_accuracy: 0.7020 - val_loss: 0.5762\n",
      "Epoch 7/10\n",
      "\u001B[1m2161/2161\u001B[0m \u001B[32m━━━━━━━━━━━━━━━━━━━━\u001B[0m\u001B[37m\u001B[0m \u001B[1m3s\u001B[0m 1ms/step - accuracy: 0.7016 - loss: 0.5738 - val_accuracy: 0.7027 - val_loss: 0.5675\n",
      "Epoch 8/10\n",
      "\u001B[1m2161/2161\u001B[0m \u001B[32m━━━━━━━━━━━━━━━━━━━━\u001B[0m\u001B[37m\u001B[0m \u001B[1m3s\u001B[0m 1ms/step - accuracy: 0.7021 - loss: 0.5674 - val_accuracy: 0.7046 - val_loss: 0.5625\n",
      "Epoch 9/10\n",
      "\u001B[1m2161/2161\u001B[0m \u001B[32m━━━━━━━━━━━━━━━━━━━━\u001B[0m\u001B[37m\u001B[0m \u001B[1m3s\u001B[0m 1ms/step - accuracy: 0.7034 - loss: 0.5637 - val_accuracy: 0.7038 - val_loss: 0.5614\n",
      "Epoch 10/10\n",
      "\u001B[1m2161/2161\u001B[0m \u001B[32m━━━━━━━━━━━━━━━━━━━━\u001B[0m\u001B[37m\u001B[0m \u001B[1m3s\u001B[0m 1ms/step - accuracy: 0.7061 - loss: 0.5600 - val_accuracy: 0.7089 - val_loss: 0.5590\n",
      "Model saved as Malicious_URL_Prediction.keras\n"
     ]
    }
   ],
   "execution_count": 3
  }
 ],
 "metadata": {
  "accelerator": "GPU",
  "colab": {
   "collapsed_sections": [],
   "name": "Training Phishing classifier.ipynb",
   "provenance": []
  },
  "kernelspec": {
   "display_name": "Python 3 (ipykernel)",
   "language": "python",
   "name": "python3"
  },
  "language_info": {
   "codemirror_mode": {
    "name": "ipython",
    "version": 3
   },
   "file_extension": ".py",
   "mimetype": "text/x-python",
   "name": "python",
   "nbconvert_exporter": "python",
   "pygments_lexer": "ipython3",
   "version": "3.10.1"
  }
 },
 "nbformat": 4,
 "nbformat_minor": 4
}
