{
 "cells": [
  {
   "cell_type": "markdown",
   "metadata": {
    "id": "nKQG_wrvO4-d"
   },
   "source": [
    "# **Phishing Domain Detection (Data Collection and Extraction)**\n",
    "\n",
    "### The purpose of this notebook is to extract pertinent information out of the malicious and benign URLs Kaggle dataset\n",
    "https://www.kaggle.com/siddharthkumar25/malicious-and-benign-urls.\n",
    "\n",
    "Research credits go to https://github.com/deepeshdm/Phishing-Attack-Domain-Detection"
   ]
  },
  {
   "cell_type": "code",
   "metadata": {
    "colab": {
     "base_uri": "https://localhost:8080/",
     "height": 36
    },
    "id": "Hz4_h7AXJqDY",
    "outputId": "82d3d0f1-5110-4fa1-d9d7-fcd7771db7ef",
    "ExecuteTime": {
     "end_time": "2025-01-19T12:51:28.552231Z",
     "start_time": "2025-01-19T12:51:28.546176Z"
    }
   },
   "source": [
    "# Check if GPU is being used\n",
    "import tensorflow as tf\n",
    "\n",
    "gpu_device = tf.test.gpu_device_name()\n",
    "if gpu_device:\n",
    "    print(f\"GPU found: {gpu_device}\")\n",
    "else:\n",
    "    print(\"No GPU found, using CPU.\")\n"
   ],
   "outputs": [
    {
     "name": "stdout",
     "output_type": "stream",
     "text": [
      "No GPU found, using CPU.\n"
     ]
    }
   ],
   "execution_count": 48
  },
  {
   "cell_type": "code",
   "metadata": {
    "colab": {
     "base_uri": "https://localhost:8080/",
     "height": 358
    },
    "id": "l64E2cSZJqG6",
    "outputId": "8ba707d0-d4e4-4feb-ff3f-8f5a0110e88c",
    "ExecuteTime": {
     "end_time": "2025-01-19T12:51:29.591446Z",
     "start_time": "2025-01-19T12:51:28.665047Z"
    }
   },
   "source": [
    "# Import necessary libraries\n",
    "import pandas as pd\n",
    "\n",
    "# Load the dataset and handle potential errors\n",
    "try:\n",
    "    df = pd.read_csv(\"./urldata.csv\")\n",
    "except FileNotFoundError:\n",
    "    print(\"Error: File not found. Ensure the file path is correct.\")\n",
    "    exit()\n",
    "\n",
    "# Remove the unnamed columns\n",
    "df.drop(columns=[\"Unnamed: 0\"], inplace=True, errors='ignore')\n",
    "\n",
    "# Display basic info and first few rows for inspection\n",
    "df.info()\n",
    "df.head(5)\n"
   ],
   "outputs": [
    {
     "name": "stdout",
     "output_type": "stream",
     "text": [
      "<class 'pandas.core.frame.DataFrame'>\n",
      "RangeIndex: 450176 entries, 0 to 450175\n",
      "Data columns (total 3 columns):\n",
      " #   Column  Non-Null Count   Dtype \n",
      "---  ------  --------------   ----- \n",
      " 0   url     450176 non-null  object\n",
      " 1   label   450176 non-null  object\n",
      " 2   result  450176 non-null  int64 \n",
      "dtypes: int64(1), object(2)\n",
      "memory usage: 10.3+ MB\n"
     ]
    },
    {
     "data": {
      "text/plain": [
       "                         url   label  result\n",
       "0     https://www.google.com  benign       0\n",
       "1    https://www.youtube.com  benign       0\n",
       "2   https://www.facebook.com  benign       0\n",
       "3      https://www.baidu.com  benign       0\n",
       "4  https://www.wikipedia.org  benign       0"
      ],
      "text/html": [
       "<div>\n",
       "<style scoped>\n",
       "    .dataframe tbody tr th:only-of-type {\n",
       "        vertical-align: middle;\n",
       "    }\n",
       "\n",
       "    .dataframe tbody tr th {\n",
       "        vertical-align: top;\n",
       "    }\n",
       "\n",
       "    .dataframe thead th {\n",
       "        text-align: right;\n",
       "    }\n",
       "</style>\n",
       "<table border=\"1\" class=\"dataframe\">\n",
       "  <thead>\n",
       "    <tr style=\"text-align: right;\">\n",
       "      <th></th>\n",
       "      <th>url</th>\n",
       "      <th>label</th>\n",
       "      <th>result</th>\n",
       "    </tr>\n",
       "  </thead>\n",
       "  <tbody>\n",
       "    <tr>\n",
       "      <th>0</th>\n",
       "      <td>https://www.google.com</td>\n",
       "      <td>benign</td>\n",
       "      <td>0</td>\n",
       "    </tr>\n",
       "    <tr>\n",
       "      <th>1</th>\n",
       "      <td>https://www.youtube.com</td>\n",
       "      <td>benign</td>\n",
       "      <td>0</td>\n",
       "    </tr>\n",
       "    <tr>\n",
       "      <th>2</th>\n",
       "      <td>https://www.facebook.com</td>\n",
       "      <td>benign</td>\n",
       "      <td>0</td>\n",
       "    </tr>\n",
       "    <tr>\n",
       "      <th>3</th>\n",
       "      <td>https://www.baidu.com</td>\n",
       "      <td>benign</td>\n",
       "      <td>0</td>\n",
       "    </tr>\n",
       "    <tr>\n",
       "      <th>4</th>\n",
       "      <td>https://www.wikipedia.org</td>\n",
       "      <td>benign</td>\n",
       "      <td>0</td>\n",
       "    </tr>\n",
       "  </tbody>\n",
       "</table>\n",
       "</div>"
      ]
     },
     "execution_count": 49,
     "metadata": {},
     "output_type": "execute_result"
    }
   ],
   "execution_count": 49
  },
  {
   "cell_type": "code",
   "metadata": {
    "colab": {
     "base_uri": "https://localhost:8080/"
    },
    "id": "ixOjqQFmJqUl",
    "outputId": "1eccc9f9-5a67-4bb4-ff2a-c48f90bef3dc",
    "ExecuteTime": {
     "end_time": "2025-01-19T12:51:29.700280Z",
     "start_time": "2025-01-19T12:51:29.654212Z"
    }
   },
   "source": [
    "# Printing number of legit and fraud domain urls\n",
    "df[\"label\"].value_counts()"
   ],
   "outputs": [
    {
     "data": {
      "text/plain": [
       "label\n",
       "benign       345738\n",
       "malicious    104438\n",
       "Name: count, dtype: int64"
      ]
     },
     "execution_count": 50,
     "metadata": {},
     "output_type": "execute_result"
    }
   ],
   "execution_count": 50
  },
  {
   "cell_type": "markdown",
   "metadata": {
    "id": "tb7_XT7GTCiF"
   },
   "source": [
    "## **Extracting Length Features**\n",
    "#### Length features of the following properties can be extracted for relevant data analysis\n",
    "- Length Of Url\n",
    "- Length of Hostname\n",
    "- Length Of Path\n",
    "- Length Of First Directory\n",
    "- Length Of Top Level Domain"
   ]
  },
  {
   "cell_type": "code",
   "metadata": {
    "id": "BSRSkWhaJqXi",
    "ExecuteTime": {
     "end_time": "2025-01-19T12:51:41.313240Z",
     "start_time": "2025-01-19T12:51:29.890886Z"
    }
   },
   "source": [
    "from urllib.parse import urlparse\n",
    "\n",
    "# Function to handle invalid or empty URLs\n",
    "def safe_urlparse(url):\n",
    "    try:\n",
    "        parsed_url = urlparse(url)\n",
    "        if parsed_url.netloc:\n",
    "            return parsed_url\n",
    "        else:\n",
    "            return None  # Return None if no valid netloc is found\n",
    "    except ValueError:\n",
    "        return None  # Return None for invalid URLs\n",
    "\n",
    "# Length of URL, Hostname, Path, and First Directory Length\n",
    "df['url_length'] = df['url'].str.len()\n",
    "\n",
    "# Apply the safe_urlparse function and handle missing or invalid netloc\n",
    "df['hostname_length'] = df['url'].apply(lambda i: len(safe_urlparse(i).netloc) if safe_urlparse(i) else 0)\n",
    "df['path_length'] = df['url'].apply(lambda i: len(safe_urlparse(i).path) if safe_urlparse(i) else 0)\n",
    "\n",
    "# Function for calculating First Directory Length\n",
    "def fd_length(url):\n",
    "    parsed_url = safe_urlparse(url)\n",
    "    if parsed_url and parsed_url.path:\n",
    "        return len(parsed_url.path.split('/')[1]) if parsed_url.path.split('/') else 0\n",
    "    return 0\n",
    "\n",
    "df['fd_length'] = df['url'].apply(fd_length)\n"
   ],
   "outputs": [],
   "execution_count": 51
  },
  {
   "cell_type": "code",
   "metadata": {
    "id": "5r8Yn5xuT6zh",
    "ExecuteTime": {
     "end_time": "2025-01-19T12:51:43.118763Z",
     "start_time": "2025-01-19T12:51:41.347766Z"
    }
   },
   "source": [
    "import re\n",
    "\n",
    "# List of special characters\n",
    "special_chars = ['-', '@', '?', '%', '.', '=', 'http', 'https', 'www']\n",
    "\n",
    "# Loop through each special character and count its occurrences in the URL\n",
    "for char in special_chars:\n",
    "    # Use re.escape to ensure characters are treated as literals\n",
    "    df[f'count_{char}'] = df['url'].str.count(re.escape(char))\n"
   ],
   "outputs": [],
   "execution_count": 52
  },
  {
   "cell_type": "markdown",
   "metadata": {
    "id": "zK16i8ckTa-7"
   },
   "source": [
    "## **Occurrence Count Features**\n",
    "Occurrences of specific characters within malicious domains can be a relevant indicator for malicious domains\n",
    "- Count Of '-'\n",
    "- Count Of '@'\n",
    "- Count Of '?'\n",
    "- Count Of '%'\n",
    "- Count Of '.'\n",
    "- Count Of '='\n",
    "- Count Of 'http'\n",
    "- Count Of 'www'\n",
    "- Count Of Digits\n",
    "- Count Of Letters\n",
    "- Count Of Number Of Directories"
   ]
  },
  {
   "cell_type": "code",
   "metadata": {
    "id": "ErRmw6koJqaZ",
    "ExecuteTime": {
     "end_time": "2025-01-19T12:51:45.939215Z",
     "start_time": "2025-01-19T12:51:43.122765Z"
    }
   },
   "source": [
    "# Count digits and letters in the URL\n",
    "df['count_digits'] = df['url'].str.count(r'\\d')\n",
    "df['count_letters'] = df['url'].str.count(r'[a-zA-Z]')\n"
   ],
   "outputs": [],
   "execution_count": 53
  },
  {
   "cell_type": "code",
   "metadata": {
    "id": "--MD6ziHUzur",
    "ExecuteTime": {
     "end_time": "2025-01-19T12:51:48.362837Z",
     "start_time": "2025-01-19T12:51:45.951383Z"
    }
   },
   "source": [
    "from urllib.parse import urlparse\n",
    "\n",
    "# Function to count directories in the URL path with error handling\n",
    "def count_directories(url):\n",
    "    if isinstance(url, str):\n",
    "        try:\n",
    "            # Try parsing the URL\n",
    "            parsed_url = urlparse(url)\n",
    "            # Check if the parsed URL contains both scheme and netloc (valid URL)\n",
    "            if parsed_url.scheme and parsed_url.netloc:\n",
    "                return parsed_url.path.count('/')\n",
    "            else:\n",
    "                return 0  # Return 0 if it doesn't seem to be a valid URL\n",
    "        except ValueError:\n",
    "            return 0  # Return 0 if the URL causes a parsing error\n",
    "    return 0  # Return 0 for non-string or invalid URLs\n",
    "\n",
    "# Apply the function to count directories\n",
    "df['count_dir'] = df['url'].apply(count_directories)\n"
   ],
   "outputs": [],
   "execution_count": 54
  },
  {
   "cell_type": "code",
   "metadata": {
    "id": "pScMnKRNUzxj",
    "ExecuteTime": {
     "end_time": "2025-01-19T12:51:52.391095Z",
     "start_time": "2025-01-19T12:51:48.376157Z"
    }
   },
   "source": [
    "import re\n",
    "\n",
    "# Function to check if the URL contains an IP address\n",
    "def having_ip_address(url):\n",
    "    ip_pattern = re.compile(\n",
    "        r'((([01]?\\d\\d?|2[0-4]\\d|25[0-5])\\.){3}([01]?\\d\\d?|2[0-4]\\d|25[0-5]))'  # IPv4\n",
    "        r'|(([0-9a-fA-F]{1,4}:){7}[0-9a-fA-F]{1,4})'  # IPv6\n",
    "    )\n",
    "    return -1 if ip_pattern.search(url) else 1\n",
    "\n",
    "df['use_of_ip'] = df['url'].apply(having_ip_address)\n"
   ],
   "outputs": [],
   "execution_count": 55
  },
  {
   "cell_type": "code",
   "metadata": {
    "id": "uMuLb8rfUz0D",
    "ExecuteTime": {
     "end_time": "2025-01-19T12:51:54.368429Z",
     "start_time": "2025-01-19T12:51:52.405788Z"
    }
   },
   "source": [
    "import re\n",
    "\n",
    "# Function to detect URL shortening services\n",
    "def shortening_service(url):\n",
    "    shortening_pattern = re.compile(r'bit\\.ly|goo\\.gl|shorte\\.st|go2l\\.ink|x\\.co|ow\\.ly|t\\.co|tinyurl|tr\\.im|is\\.gd|'\n",
    "                                    r'cli\\.gs|snipurl\\.com|short\\.to|BudURL\\.com|ping\\.fm|post\\.ly|Just\\.as|bkite\\.com|'\n",
    "                                    r'snipr\\.com|fic\\.kr|loopt\\.us|doiop\\.com|short\\.ie|kl\\.am|wp\\.me|rubyurl\\.com|om\\.ly|'\n",
    "                                    r'to\\.ly|bit\\.do|t\\.co|lnkd\\.in|db\\.tt|qr\\.ae|adf\\.ly|goo\\.gl|bitly\\.com|cur\\.lv|'\n",
    "                                    r'tinyurl\\.com|ow\\.ly|bit\\.ly|ity\\.im|q\\.gs|is\\.gd|po\\.st|bc\\.vc|twitthis\\.com|u\\.to|'\n",
    "                                    r'j\\.mp|buzurl\\.com|cutt\\.us|u\\.bb|yourls\\.org')\n",
    "    # Check if the pattern matches the URL\n",
    "    return -1 if shortening_pattern.search(url) else 1\n",
    "\n",
    "# Apply the function to the DataFrame\n",
    "df['short_url'] = df['url'].apply(shortening_service)\n"
   ],
   "outputs": [],
   "execution_count": 56
  },
  {
   "cell_type": "code",
   "metadata": {
    "colab": {
     "base_uri": "https://localhost:8080/",
     "height": 375
    },
    "id": "XiQsbbcwUz3T",
    "outputId": "9d12b7fe-8738-498c-9b5e-dee5abd0f44b",
    "ExecuteTime": {
     "end_time": "2025-01-19T12:51:56.381641Z",
     "start_time": "2025-01-19T12:51:54.383008Z"
    }
   },
   "source": [
    "# Save the processed dataset\n",
    "df.to_csv(\"Url_Processed.csv\", index=False)\n",
    "print(\"Data saved to 'Url_Processed.csv'.\")"
   ],
   "outputs": [
    {
     "name": "stdout",
     "output_type": "stream",
     "text": [
      "Data saved to 'Url_Processed.csv'.\n"
     ]
    }
   ],
   "execution_count": 57
  },
  {
   "cell_type": "markdown",
   "metadata": {
    "id": "-1SraUb_TkOn"
   },
   "source": [
    "## **Binary Features**\n",
    "\n",
    "The following binary features can also be extracted from the dataset\n",
    "- Use of IP or not\n",
    "- Use of Shortening URL or not"
   ]
  },
  {
   "cell_type": "markdown",
   "metadata": {
    "id": "US3UGAZzY8Id"
   },
   "source": [
    "#### **IP Address in the URL**\n",
    "\n",
    "Checks for the presence of IP address in the URL. URLs may have IP address instead of domain name. If an IP address is used as an alternative of the domain name in the URL, we can be sure that someone is trying to steal personal information with this URL."
   ]
  },
  {
   "cell_type": "markdown",
   "metadata": {
    "id": "dh0VoEeEZIth"
   },
   "source": [
    "#### **Using URL Shortening Services “TinyURL”**\n",
    "\n",
    "URL shortening is a method on the “World Wide Web” in which a URL may be made considerably smaller in length and still lead to the required webpage. This is accomplished by means of an “HTTP Redirect” on a domain name that is short, which links to the webpage that has a long URL."
   ]
  },
  {
   "cell_type": "markdown",
   "metadata": {
    "id": "4mmD8bv6WTAr"
   },
   "source": [
    "### **Saving the dataset as .csv file**"
   ]
  }
 ],
 "metadata": {
  "colab": {
   "collapsed_sections": [],
   "name": "Data Collection and Feature Extraction (Phishing urls).ipynb",
   "provenance": []
  },
  "kernelspec": {
   "display_name": "Python 3 (ipykernel)",
   "language": "python",
   "name": "python3"
  },
  "language_info": {
   "codemirror_mode": {
    "name": "ipython",
    "version": 3
   },
   "file_extension": ".py",
   "mimetype": "text/x-python",
   "name": "python",
   "nbconvert_exporter": "python",
   "pygments_lexer": "ipython3",
   "version": "3.10.1"
  }
 },
 "nbformat": 4,
 "nbformat_minor": 4
}
